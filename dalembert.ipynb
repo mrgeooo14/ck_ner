{
 "cells": [
  {
   "cell_type": "markdown",
   "id": "a33c7ea7",
   "metadata": {},
   "source": [
    "##### Fine-Tuning of d'Alembert to our dataset (NER task)"
   ]
  },
  {
   "cell_type": "code",
   "execution_count": null,
   "id": "db065be9",
   "metadata": {},
   "outputs": [],
   "source": [
    "from datasets import load_dataset, load_from_disk\n",
    "from transformers import AutoTokenizer, AutoModelForTokenClassification\n",
    "\n",
    "### Load our medieval french dataset (locally)\n",
    "dataset = load_from_disk(\"./data/ck_ner_dataset_hg\")"
   ]
  },
  {
   "cell_type": "markdown",
   "id": "0bc8522d",
   "metadata": {},
   "source": [
    "Breakdown of the dataset"
   ]
  },
  {
   "cell_type": "code",
   "execution_count": null,
   "id": "6b5d14b6",
   "metadata": {},
   "outputs": [],
   "source": [
    "dataset"
   ]
  },
  {
   "cell_type": "markdown",
   "id": "94b204e8",
   "metadata": {},
   "source": [
    "Tokenization"
   ]
  },
  {
   "cell_type": "code",
   "execution_count": null,
   "id": "1ea32939",
   "metadata": {},
   "outputs": [],
   "source": [
    "### get all labels and convert them to ids required be the model\n",
    "label_list = sorted({tag for example in dataset['train'] for tag in example['ner_tags']})\n",
    "label_to_id = {label: i for i, label in enumerate(label_list)}\n",
    "id_to_label = {i: label for label, i in label_to_id.items()}"
   ]
  },
  {
   "cell_type": "code",
   "execution_count": null,
   "id": "7d358d0f",
   "metadata": {},
   "outputs": [],
   "source": [
    "from transformers import AutoTokenizer\n",
    "\n",
    "model_name = \"pjox/dalembert\"\n",
    "tokenizer = AutoTokenizer.from_pretrained(model_name, add_prefix_space=True)"
   ]
  },
  {
   "cell_type": "code",
   "execution_count": null,
   "id": "93b17997",
   "metadata": {},
   "outputs": [],
   "source": [
    "def tokenize_and_align_labels(example):\n",
    "    tokenized = tokenizer(\n",
    "        example[\"tokens\"],\n",
    "        is_split_into_words=True, ##we have it already split from spacy\n",
    "        truncation=True,\n",
    "        padding=\"max_length\",\n",
    "    )\n",
    "    word_ids = tokenized.word_ids()\n",
    "    ### adapt labels to subwords\n",
    "    labels = []\n",
    "    prev_word_id = None\n",
    "\n",
    "    for word_id in word_ids:\n",
    "        if word_id is None:\n",
    "            labels.append(-100)\n",
    "        elif word_id != prev_word_id:\n",
    "            labels.append(label_to_id[example[\"ner_tags\"][word_id]])\n",
    "        else:\n",
    "            labels.append(-100)\n",
    "        prev_word_id = word_id\n",
    "\n",
    "    tokenized[\"labels\"] = labels\n",
    "    return tokenized"
   ]
  },
  {
   "cell_type": "markdown",
   "id": "b19a3e14",
   "metadata": {},
   "source": [
    "Tokenize and map train, test, and validation"
   ]
  },
  {
   "cell_type": "code",
   "execution_count": null,
   "id": "0cc5dafa",
   "metadata": {},
   "outputs": [],
   "source": [
    "tokenized_dataset = dataset.map(tokenize_and_align_labels, batched=False)"
   ]
  },
  {
   "cell_type": "markdown",
   "id": "fd58b080",
   "metadata": {},
   "source": [
    "Training"
   ]
  },
  {
   "cell_type": "code",
   "execution_count": null,
   "id": "6abfcfe8",
   "metadata": {},
   "outputs": [],
   "source": [
    "from transformers import AutoModelForTokenClassification\n",
    "\n",
    "model = AutoModelForTokenClassification.from_pretrained(\n",
    "    model_name,\n",
    "    num_labels = len(label_list),\n",
    "    id2label = id_to_label,\n",
    "    label2id = label_to_id\n",
    ")"
   ]
  },
  {
   "cell_type": "code",
   "execution_count": null,
   "id": "19e60f98",
   "metadata": {},
   "outputs": [],
   "source": [
    "from transformers import TrainingArguments\n",
    "\n",
    "### Trained on a RTX 4080 SUPER\n",
    "training_args = TrainingArguments(\n",
    "    output_dir = \"./models/dalembert-ner\",\n",
    "    eval_strategy = \"epoch\",\n",
    "    save_strategy = \"epoch\",\n",
    "    learning_rate = 3e-5,  # slightly higher, since you can afford faster convergence\n",
    "    per_device_train_batch_size = 16,  \n",
    "    per_device_eval_batch_size = 16,\n",
    "    gradient_accumulation_steps = 1,  \n",
    "    num_train_epochs = 3,  \n",
    "    weight_decay = 0.01,\n",
    "    logging_dir = \"./logs\",\n",
    "    logging_steps = 10,\n",
    "    save_total_limit = 2,\n",
    "    load_best_model_at_end = True,\n",
    "    metric_for_best_model = \"f1\",\n",
    "    fp16 = True, \n",
    "    dataloader_num_workers = 4,\n",
    "    report_to = \"none\" \n",
    ")"
   ]
  },
  {
   "cell_type": "markdown",
   "id": "cb43b683",
   "metadata": {},
   "source": [
    "Define evaluation"
   ]
  },
  {
   "cell_type": "code",
   "execution_count": null,
   "id": "993ea7c5",
   "metadata": {},
   "outputs": [],
   "source": [
    "import evaluate\n",
    "import numpy as np\n",
    "metric = evaluate.load(\"seqeval\")\n",
    "\n",
    "def compute_metrics(p):\n",
    "    predictions, labels = p\n",
    "    predictions = np.argmax(predictions, axis=2)\n",
    "\n",
    "    true_predictions = [\n",
    "        [id_to_label[p] for (p, l) in zip(prediction, label) if l != -100]\n",
    "        for prediction, label in zip(predictions, labels)\n",
    "    ]\n",
    "    true_labels = [\n",
    "        [id_to_label[l] for (p, l) in zip(prediction, label) if l != -100]\n",
    "        for prediction, label in zip(predictions, labels)\n",
    "    ]\n",
    "    results = metric.compute(predictions=true_predictions, references=true_labels)\n",
    "    return {\n",
    "        \"precision\": results[\"overall_precision\"],\n",
    "        \"recall\": results[\"overall_recall\"],\n",
    "        \"f1\": results[\"overall_f1\"],\n",
    "        \"accuracy\": results[\"overall_accuracy\"],\n",
    "    }"
   ]
  },
  {
   "cell_type": "code",
   "execution_count": null,
   "id": "d78cdbd8",
   "metadata": {},
   "outputs": [],
   "source": [
    "from transformers import Trainer\n",
    "\n",
    "trainer = Trainer(\n",
    "    model = model,\n",
    "    args = training_args,\n",
    "    train_dataset = tokenized_dataset[\"train\"],\n",
    "    eval_dataset = tokenized_dataset[\"validation\"],\n",
    "    tokenizer = tokenizer,\n",
    "    compute_metrics = compute_metrics\n",
    ")\n",
    "\n",
    "trainer.train()"
   ]
  },
  {
   "cell_type": "markdown",
   "id": "0a3ff384",
   "metadata": {},
   "source": [
    "Save models to file (optional)"
   ]
  },
  {
   "cell_type": "code",
   "execution_count": null,
   "id": "4d98a6c6",
   "metadata": {},
   "outputs": [],
   "source": [
    "# trainer.save_model(\"./models/dalembert-ner-finetuned_ep3\")\n",
    "# tokenizer.save_pretrained(\"./models/dalembert-ner-finetuned_tokenizer\")"
   ]
  }
 ],
 "metadata": {
  "kernelspec": {
   "display_name": "Python 3",
   "language": "python",
   "name": "python3"
  },
  "language_info": {
   "codemirror_mode": {
    "name": "ipython",
    "version": 3
   },
   "file_extension": ".py",
   "mimetype": "text/x-python",
   "name": "python",
   "nbconvert_exporter": "python",
   "pygments_lexer": "ipython3",
   "version": "3.12.3"
  }
 },
 "nbformat": 4,
 "nbformat_minor": 5
}
