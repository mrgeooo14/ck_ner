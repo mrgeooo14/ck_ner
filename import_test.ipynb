{
 "cells": [
  {
   "cell_type": "code",
   "execution_count": 1,
   "metadata": {},
   "outputs": [],
   "source": [
    "input_file = './data/presto_max_v5.4.txt'\n",
    "data_dict = {} ### full_text, tokens, lemma_tokens, pos_tags, entity tags\n",
    "\n",
    "with open(input_file, \"r\", encoding=\"utf-8\") as f:\n",
    "    text = f.read()"
   ]
  },
  {
   "cell_type": "code",
   "execution_count": 2,
   "metadata": {},
   "outputs": [],
   "source": [
    "import json\n",
    "import pandas as pd\n",
    "\n",
    "# Input data as a list of lines\n",
    "data = \"\"\"\n",
    "moyen\tmoyen\tNc\tO\tO\tO\tO\t_\n",
    "d'\tde\tS\tO\tO\tO\tO\t_\n",
    "y\ty\tPp\tO\tO\tO\tO\t_\n",
    "remedier\tremédier\tVvn\tO\tO\tO\tO\t_\n",
    "Chapitre\tchapitre\tNc\tO\tO\tO\tO\t_\n",
    "premier\tpremier\tMo\tO\tO\tO\tO\t_\n",
    ".\t.\tFs\tO\tO\tO\tO\t_\n",
    "\n",
    "BRief\tbref\tAg\tO\tO\tO\tO\t_\n",
    "traictie\ttraité\tNc\tO\tO\tO\tO\t_\n",
    "par\tpar\tS\tO\tO\tO\tO\t_\n",
    "Jehan\tJean\tNp\tB-pers\tB-pers.ind\tO\tO\t_\n",
    "de\tde\tNp\tI-pers\tI-pers.ind\tO\tO\t_\n",
    "Flores\tFlores\tNp\tI-pers\tI-pers.ind\tO\tO\t_\n",
    "pour\tpour\tS\tO\tO\tO\tO\t_\n",
    "lequel\tlequel\tPr\tO\tO\tO\tO\t_\n",
    "changea\tchanger\tVvc\tO\tO\tO\tO\t_\n",
    "son\tson\tDs\tO\tO\tO\tO\t_\n",
    "\"\"\".strip().split(\"\\n\")"
   ]
  },
  {
   "cell_type": "code",
   "execution_count": 3,
   "metadata": {},
   "outputs": [],
   "source": [
    "import re\n",
    "\n",
    "\n",
    "def detokenize(tokens):\n",
    "    ### Basic join of tokens with a space.\n",
    "    ### Remove space before punctuation marks like ., : ; ! ?\n",
    "    ### Handle French contractions: remove spaces after the apostrophe if needed.\n",
    "\n",
    "    text = \" \".join(tokens)\n",
    "    text = re.sub(r'\\s+([.,:;!?])', r'\\1', text)\n",
    "    text = re.sub(r\"\\b([dDlLQq])\\s+'\", r\"\\1'\", text)\n",
    "    text = re.sub(r\"'\\s+(\\w)\", r\"'\\1\", text)\n",
    "    text = re.sub(r'([\\(\\[\\{])\\s+', r'\\1', text)\n",
    "    text = re.sub(r'\\s+([\\)\\]\\}])', r'\\1', text)\n",
    "\n",
    "    return text\n",
    "\n",
    "\n",
    "# Parse the data\n",
    "sentences = []\n",
    "current_sentence = []\n",
    "data_dict = {}\n",
    "\n",
    "dict = {'text': '', 'tokens': [], 'lemmas': [], 'pos': [], 'ent': []}\n",
    "sentence_id = 0\n",
    "\n",
    "for line in text.strip().split(\"\\n\"):\n",
    "    parts = line.split(\"\\t\")\n",
    "    tag = 'S{}'.format(sentence_id)    \n",
    "    if parts == ['']:  # Sentence boundary\n",
    "        if current_sentence:\n",
    "            sentences.append(current_sentence)\n",
    "            # dict['text'] = ' '.join(current_sentence)\n",
    "            dict['text'] = detokenize(current_sentence)\n",
    "            data_dict[tag] = dict\n",
    "            dict = {'text': '', 'tokens': [], 'lemmas': [], 'pos': [], 'ent': []}\n",
    "            \n",
    "            sentence_id += 1\n",
    "            current_sentence = []\n",
    "    else:        \n",
    "        token = parts[0]\n",
    "        lemma = parts[1]\n",
    "        pos_tag = parts[2]\n",
    "        entity = parts[3]\n",
    "        current_sentence.append(token)\n",
    "        # print('i know youre up', parts[0])\n",
    "        \n",
    "        dict['tokens'].append(token)\n",
    "        dict['lemmas'].append(lemma)\n",
    "        dict['pos'].append(pos_tag)\n",
    "        dict['ent'].append(entity)\n",
    "        \n",
    "\n",
    "# Append the last sentence if not already added\n",
    "if current_sentence:\n",
    "    sentences.append(current_sentence)\n",
    "    dict['text'] = detokenize(current_sentence)\n",
    "    data_dict[tag] = dict"
   ]
  },
  {
   "cell_type": "code",
   "execution_count": null,
   "metadata": {},
   "outputs": [],
   "source": [
    "import pandas as pd\n",
    "import ast\n",
    "\n",
    "\n",
    "df = pd.read_csv('./data/presto_max_as_csv.csv', index_col = 0)\n",
    "df['ent'] = df['ent'].apply(ast.literal_eval)\n",
    "df['tokens'] = df['tokens'].apply(ast.literal_eval)"
   ]
  },
  {
   "cell_type": "code",
   "execution_count": null,
   "metadata": {},
   "outputs": [
    {
     "name": "stdout",
     "output_type": "stream",
     "text": [
      "Counter({'O': 4558670, 'B-pers': 53160, 'I-pers': 28381, 'B-loc': 25665, 'I-loc': 12279, 'I-amount': 6900, 'I-func': 6671, 'B-time': 5010, 'I-time': 4795, 'B-amount': 4460, 'B-func': 3241, 'I-org': 2169, 'B-org': 1114, 'I-event': 627, 'B-prod': 595, 'I-prod': 380, 'B-event': 306, 'Nc': 8, 'S': 7, 'B-func.ind': 6, 'Np': 3, 'B-pers.ind': 1})\n"
     ]
    }
   ],
   "source": [
    "from collections import Counter\n",
    "\n",
    "#### Flatten all lists of entities into a single list and Count the Frequency of each entity tag\n",
    "all_entities = [entity for sublist in df['ent'] for entity in sublist]\n",
    "entity_counts = Counter(all_entities)\n",
    "print(entity_counts)"
   ]
  }
 ],
 "metadata": {
  "kernelspec": {
   "display_name": "Python 3",
   "language": "python",
   "name": "python3"
  },
  "language_info": {
   "codemirror_mode": {
    "name": "ipython",
    "version": 3
   },
   "file_extension": ".py",
   "mimetype": "text/x-python",
   "name": "python",
   "nbconvert_exporter": "python",
   "pygments_lexer": "ipython3",
   "version": "3.12.3"
  }
 },
 "nbformat": 4,
 "nbformat_minor": 2
}
