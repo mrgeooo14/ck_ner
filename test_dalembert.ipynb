{
 "cells": [
  {
   "cell_type": "code",
   "execution_count": 1,
   "id": "3c990ba4",
   "metadata": {},
   "outputs": [],
   "source": [
    "from datasets import load_dataset, load_from_disk\n",
    "from transformers import AutoTokenizer, AutoModelForTokenClassification, Trainer, TrainingArguments\n",
    "\n",
    "# Replace with the path or name of your saved model\n",
    "model_path = \"./models/dalembert-ner-finetuned_ep5\"\n",
    "dataset_path = \"./data/ck_ner_dataset_hg\"\n",
    "tokenizer_path = \"./models/dalembert-ner-finetuned_tokenizer\"\n",
    "\n",
    "### Load our medieval french dataset (locally) & model and tokenizer\n",
    "dataset = load_from_disk(dataset_path)\n",
    "tokenizer = AutoTokenizer.from_pretrained(tokenizer_path)\n",
    "model = AutoModelForTokenClassification.from_pretrained(model_path)"
   ]
  },
  {
   "cell_type": "markdown",
   "id": "878d9c41",
   "metadata": {},
   "source": [
    "##### Tokenization still needs to be done."
   ]
  },
  {
   "cell_type": "code",
   "execution_count": null,
   "id": "11c0649e",
   "metadata": {},
   "outputs": [
    {
     "data": {
      "application/vnd.jupyter.widget-view+json": {
       "model_id": "2905e207e6d3432d95558a3e4f90cd6b",
       "version_major": 2,
       "version_minor": 0
      },
      "text/plain": [
       "Map:   0%|          | 0/12700 [00:00<?, ? examples/s]"
      ]
     },
     "metadata": {},
     "output_type": "display_data"
    }
   ],
   "source": [
    "from hg_functions import get_label_mappings, tokenize_and_align_labels_for_ner, compute_metrics\n",
    "\n",
    "label_list, label_to_id, id_to_label = get_label_mappings(dataset)\n",
    "\n",
    "eval_dataset = dataset[\"validation\"].map(\n",
    "    lambda x: tokenize_and_align_labels_for_ner(x, tokenizer, label_to_id),\n",
    "    batched=False\n",
    ")\n",
    "training_args = TrainingArguments(\n",
    "    output_dir = \"./results\", \n",
    "    per_device_eval_batch_size = 8,\n",
    "    do_eval = True,\n",
    "    logging_dir = \"./logs\",\n",
    "    eval_accumulation_steps = 2\n",
    ")\n",
    "\n",
    "trainer = Trainer(\n",
    "    model = model,\n",
    "    args = training_args,\n",
    "    tokenizer = tokenizer,\n",
    "    compute_metrics = lambda p: compute_metrics(p, id_to_label)\n",
    ")\n"
   ]
  },
  {
   "cell_type": "code",
   "execution_count": 5,
   "id": "088aa71a",
   "metadata": {},
   "outputs": [
    {
     "data": {
      "application/vnd.jupyter.widget-view+json": {
       "model_id": "6deb48e5067b498f9b1143e6b9426d95",
       "version_major": 2,
       "version_minor": 0
      },
      "text/plain": [
       "  0%|          | 0/1588 [00:00<?, ?it/s]"
      ]
     },
     "metadata": {},
     "output_type": "display_data"
    },
    {
     "name": "stdout",
     "output_type": "stream",
     "text": [
      "{'eval_loss': 0.018169540911912918, 'eval_precision': 0.9292389853137517, 'eval_recall': 0.9407716883755223, 'eval_f1': 0.9349697746840081, 'eval_accuracy': 0.9970777534928091, 'eval_runtime': 28.5147, 'eval_samples_per_second': 445.385, 'eval_steps_per_second': 55.691}\n"
     ]
    }
   ],
   "source": [
    "results = trainer.evaluate(eval_dataset)\n",
    "print(results)"
   ]
  }
 ],
 "metadata": {
  "kernelspec": {
   "display_name": "Python 3",
   "language": "python",
   "name": "python3"
  },
  "language_info": {
   "codemirror_mode": {
    "name": "ipython",
    "version": 3
   },
   "file_extension": ".py",
   "mimetype": "text/x-python",
   "name": "python",
   "nbconvert_exporter": "python",
   "pygments_lexer": "ipython3",
   "version": "3.12.3"
  }
 },
 "nbformat": 4,
 "nbformat_minor": 5
}
