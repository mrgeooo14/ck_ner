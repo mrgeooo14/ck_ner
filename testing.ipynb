{
 "cells": [
  {
   "cell_type": "code",
   "execution_count": 1,
   "metadata": {},
   "outputs": [
    {
     "data": {
      "text/html": [
       "<div>\n",
       "<style scoped>\n",
       "    .dataframe tbody tr th:only-of-type {\n",
       "        vertical-align: middle;\n",
       "    }\n",
       "\n",
       "    .dataframe tbody tr th {\n",
       "        vertical-align: top;\n",
       "    }\n",
       "\n",
       "    .dataframe thead th {\n",
       "        text-align: right;\n",
       "    }\n",
       "</style>\n",
       "<table border=\"1\" class=\"dataframe\">\n",
       "  <thead>\n",
       "    <tr style=\"text-align: right;\">\n",
       "      <th></th>\n",
       "      <th>Sentence_ID</th>\n",
       "      <th>text</th>\n",
       "      <th>tokens</th>\n",
       "      <th>lemmas</th>\n",
       "      <th>pos</th>\n",
       "      <th>ent</th>\n",
       "    </tr>\n",
       "  </thead>\n",
       "  <tbody>\n",
       "    <tr>\n",
       "      <th>0</th>\n",
       "      <td>S0</td>\n",
       "      <td>GRIMALTE AMANT DE LA dame Gradisse narre somma...</td>\n",
       "      <td>[GRIMALTE, AMANT, DE, LA, dame, Gradisse, narr...</td>\n",
       "      <td>['Grimalte', 'amant', 'de', 'le', 'dame', 'Gra...</td>\n",
       "      <td>['Np', 'Nc', 'S', 'Da', 'Nc', 'Np', 'Vvc', 'Rg...</td>\n",
       "      <td>[B-pers, O, O, O, B-pers, I-pers, O, O, O, O, ...</td>\n",
       "    </tr>\n",
       "    <tr>\n",
       "      <th>1</th>\n",
       "      <td>S1</td>\n",
       "      <td>BRief traictie par Jehan de Flores pour lequel...</td>\n",
       "      <td>[BRief, traictie, par, Jehan, de, Flores, pour...</td>\n",
       "      <td>['bref', 'traité', 'par', 'Jean', 'de', 'Flore...</td>\n",
       "      <td>['Ag', 'Nc', 'S', 'Np', 'Np', 'Np', 'S', 'Pr',...</td>\n",
       "      <td>[O, O, O, B-pers, I-pers, I-pers, O, O, O, O, ...</td>\n",
       "    </tr>\n",
       "    <tr>\n",
       "      <th>2</th>\n",
       "      <td>S2</td>\n",
       "      <td>Et en cest estat aulcun temps vivant avecques ...</td>\n",
       "      <td>[Et, en, cest, estat, aulcun, temps, vivant, a...</td>\n",
       "      <td>['et', 'en', 'ce', 'état', 'aucun', 'temps', '...</td>\n",
       "      <td>['Cc', 'S', 'Dd', 'Nc', 'Ag', 'Nc', 'Ga', 'S',...</td>\n",
       "      <td>[O, O, O, O, O, O, O, O, O, O, O, O, O, O, O, ...</td>\n",
       "    </tr>\n",
       "    <tr>\n",
       "      <th>3</th>\n",
       "      <td>S3</td>\n",
       "      <td>Il fut contraint faire a elle grãs ſermens de ...</td>\n",
       "      <td>[Il, fut, contraint, faire, a, elle, grãs, ſer...</td>\n",
       "      <td>['il', 'être', 'contraindre', 'faire', 'à', 'i...</td>\n",
       "      <td>['Pp', 'Vuc', 'Ge', 'Vvn', 'S', 'Pp', 'Ag', 'N...</td>\n",
       "      <td>[O, O, O, O, O, O, O, O, O, O, O, O, O, O, O, ...</td>\n",
       "    </tr>\n",
       "    <tr>\n",
       "      <th>4</th>\n",
       "      <td>S4</td>\n",
       "      <td>De laquelle choſe il n'eust pouvoir / ou voulo...</td>\n",
       "      <td>[De, laquelle, choſe, il, n', eust, pouvoir, /...</td>\n",
       "      <td>['de', 'lequel', 'chose', 'il', 'ne', 'avoir',...</td>\n",
       "      <td>['S', 'Pr', 'Nc', 'Pp', 'Rp', 'Vuc', 'Vvn', 'X...</td>\n",
       "      <td>[O, O, O, O, O, O, O, O, O, O, O, O, O]</td>\n",
       "    </tr>\n",
       "  </tbody>\n",
       "</table>\n",
       "</div>"
      ],
      "text/plain": [
       "  Sentence_ID                                               text  \\\n",
       "0          S0  GRIMALTE AMANT DE LA dame Gradisse narre somma...   \n",
       "1          S1  BRief traictie par Jehan de Flores pour lequel...   \n",
       "2          S2  Et en cest estat aulcun temps vivant avecques ...   \n",
       "3          S3  Il fut contraint faire a elle grãs ſermens de ...   \n",
       "4          S4  De laquelle choſe il n'eust pouvoir / ou voulo...   \n",
       "\n",
       "                                              tokens  \\\n",
       "0  [GRIMALTE, AMANT, DE, LA, dame, Gradisse, narr...   \n",
       "1  [BRief, traictie, par, Jehan, de, Flores, pour...   \n",
       "2  [Et, en, cest, estat, aulcun, temps, vivant, a...   \n",
       "3  [Il, fut, contraint, faire, a, elle, grãs, ſer...   \n",
       "4  [De, laquelle, choſe, il, n', eust, pouvoir, /...   \n",
       "\n",
       "                                              lemmas  \\\n",
       "0  ['Grimalte', 'amant', 'de', 'le', 'dame', 'Gra...   \n",
       "1  ['bref', 'traité', 'par', 'Jean', 'de', 'Flore...   \n",
       "2  ['et', 'en', 'ce', 'état', 'aucun', 'temps', '...   \n",
       "3  ['il', 'être', 'contraindre', 'faire', 'à', 'i...   \n",
       "4  ['de', 'lequel', 'chose', 'il', 'ne', 'avoir',...   \n",
       "\n",
       "                                                 pos  \\\n",
       "0  ['Np', 'Nc', 'S', 'Da', 'Nc', 'Np', 'Vvc', 'Rg...   \n",
       "1  ['Ag', 'Nc', 'S', 'Np', 'Np', 'Np', 'S', 'Pr',...   \n",
       "2  ['Cc', 'S', 'Dd', 'Nc', 'Ag', 'Nc', 'Ga', 'S',...   \n",
       "3  ['Pp', 'Vuc', 'Ge', 'Vvn', 'S', 'Pp', 'Ag', 'N...   \n",
       "4  ['S', 'Pr', 'Nc', 'Pp', 'Rp', 'Vuc', 'Vvn', 'X...   \n",
       "\n",
       "                                                 ent  \n",
       "0  [B-pers, O, O, O, B-pers, I-pers, O, O, O, O, ...  \n",
       "1  [O, O, O, B-pers, I-pers, I-pers, O, O, O, O, ...  \n",
       "2  [O, O, O, O, O, O, O, O, O, O, O, O, O, O, O, ...  \n",
       "3  [O, O, O, O, O, O, O, O, O, O, O, O, O, O, O, ...  \n",
       "4            [O, O, O, O, O, O, O, O, O, O, O, O, O]  "
      ]
     },
     "execution_count": 1,
     "metadata": {},
     "output_type": "execute_result"
    }
   ],
   "source": [
    "import spacy\n",
    "from spacy import displacy\n",
    "import pandas as pd\n",
    "import ast\n",
    "import warnings\n",
    "warnings.simplefilter(action='ignore', category=FutureWarning)\n",
    "\n",
    "ck_df = pd.read_csv('./data/presto_max_as_csv.csv', index_col = 0)\n",
    "ck_df['ent'] = ck_df['ent'].apply(ast.literal_eval)\n",
    "ck_df['tokens'] = ck_df['tokens'].apply(ast.literal_eval)\n",
    "ck_df.head(5)"
   ]
  },
  {
   "cell_type": "code",
   "execution_count": 7,
   "metadata": {},
   "outputs": [],
   "source": [
    "example = '\\n'.join(ck_df[:5].text.values)\n",
    "# example = '''\n",
    "# Le président ukrainien Volodymyr Zelensky s'est dit prêt mardi à \"un échange\" de territoires avec la Russie, dans le cadre d'éventuelles négociations de paix sous l'égide des Etats-Unis, tout en ajoutant qu'il ne savait pas quel territoire Kiev demanderait en retour.\n",
    "# '''"
   ]
  },
  {
   "cell_type": "markdown",
   "metadata": {},
   "source": [
    "French Medieval Love Story Test"
   ]
  },
  {
   "cell_type": "code",
   "execution_count": null,
   "metadata": {},
   "outputs": [
    {
     "data": {
      "text/html": [
       "<span class=\"tex2jax_ignore\"><div class=\"entities\" style=\"line-height: 2.5; direction: ltr\">\n",
       "<mark class=\"entity\" style=\"background: #aa9cfc; padding: 0.45em 0.6em; margin: 0 0.25em; line-height: 1; border-radius: 0.35em;\">\n",
       "    GRIMALTE\n",
       "    <span style=\"font-size: 0.8em; font-weight: bold; line-height: 1; border-radius: 0.35em; vertical-align: middle; margin-left: 0.5rem\">PERSON</span>\n",
       "</mark>\n",
       " AMANT DE LA \n",
       "<mark class=\"entity\" style=\"background: #aa9cfc; padding: 0.45em 0.6em; margin: 0 0.25em; line-height: 1; border-radius: 0.35em;\">\n",
       "    dame Gradisse\n",
       "    <span style=\"font-size: 0.8em; font-weight: bold; line-height: 1; border-radius: 0.35em; vertical-align: middle; margin-left: 0.5rem\">PERSON</span>\n",
       "</mark>\n",
       " narre sommairement Les amoureux regredz de \n",
       "<mark class=\"entity\" style=\"background: #aa9cfc; padding: 0.45em 0.6em; margin: 0 0.25em; line-height: 1; border-radius: 0.35em;\">\n",
       "    Flamete\n",
       "    <span style=\"font-size: 0.8em; font-weight: bold; line-height: 1; border-radius: 0.35em; vertical-align: middle; margin-left: 0.5rem\">PERSON</span>\n",
       "</mark>\n",
       ", qui furent occasion qu'il cherchast moyen d'y remedier Chapitre premier.<br>BRief traictie par \n",
       "<mark class=\"entity\" style=\"background: #aa9cfc; padding: 0.45em 0.6em; margin: 0 0.25em; line-height: 1; border-radius: 0.35em;\">\n",
       "    Jehan de Flores\n",
       "    <span style=\"font-size: 0.8em; font-weight: bold; line-height: 1; border-radius: 0.35em; vertical-align: middle; margin-left: 0.5rem\">PERSON</span>\n",
       "</mark>\n",
       " pour lequel changea son nom en \n",
       "<mark class=\"entity\" style=\"background: #aa9cfc; padding: 0.45em 0.6em; margin: 0 0.25em; line-height: 1; border-radius: 0.35em;\">\n",
       "    Grimalte\n",
       "    <span style=\"font-size: 0.8em; font-weight: bold; line-height: 1; border-radius: 0.35em; vertical-align: middle; margin-left: 0.5rem\">PERSON</span>\n",
       "</mark>\n",
       ", duquel l'invention est sus la \n",
       "<mark class=\"entity\" style=\"background: #aa9cfc; padding: 0.45em 0.6em; margin: 0 0.25em; line-height: 1; border-radius: 0.35em;\">\n",
       "    Flamecte\n",
       "    <span style=\"font-size: 0.8em; font-weight: bold; line-height: 1; border-radius: 0.35em; vertical-align: middle; margin-left: 0.5rem\">PERSON</span>\n",
       "</mark>\n",
       " composee par \n",
       "<mark class=\"entity\" style=\"background: #aa9cfc; padding: 0.45em 0.6em; margin: 0 0.25em; line-height: 1; border-radius: 0.35em;\">\n",
       "    Boccace\n",
       "    <span style=\"font-size: 0.8em; font-weight: bold; line-height: 1; border-radius: 0.35em; vertical-align: middle; margin-left: 0.5rem\">PERSON</span>\n",
       "</mark>\n",
       ", &amp; peult autant que ceulx qui cecy liront par adventure n'auront veu sa renommee par escript, l'ay bien voulu icy declairer sommairement, puis que ainsi est / que ceste dame fust l'une de celles, qui an aage &amp; valleur les aultres excedoit, par ainsi elle estant conjoincte en mariage avecques son convenable party ſe reputoit la plus heureuse de ſon tẽps, mais comme sont communement variables les dispositions de fortune, elle ſuyvant la vergoigneuse laſçivité, &amp; regectant l'honneur voire fourvoyee de la droicte amour de son vaillant mary avecque ung eſtrange hõme nõmé \n",
       "<mark class=\"entity\" style=\"background: #aa9cfc; padding: 0.45em 0.6em; margin: 0 0.25em; line-height: 1; border-radius: 0.35em;\">\n",
       "    Pãphille\n",
       "    <span style=\"font-size: 0.8em; font-weight: bold; line-height: 1; border-radius: 0.35em; vertical-align: middle; margin-left: 0.5rem\">PERSON</span>\n",
       "</mark>\n",
       " fut surprinse d'amour.<br>Et en cest estat aulcun temps vivant avecques plaisirs &amp; paſſetemps sans controversie d'aulcuns empeſchemens, se deporterent pluſieurs jours en leurs amoureux deduictz, &amp; a luy eſtre fort neceſſaire de ſ'en aller en ſon pays.<br>Il fut contraint faire a elle grãs ſermens de foy, que dedans quatre moys il promettoit de revenir.<br>De laquelle choſe il n'eust pouvoir / ou vouloir de maintenir.</div></span>"
      ],
      "text/plain": [
       "<IPython.core.display.HTML object>"
      ]
     },
     "metadata": {},
     "output_type": "display_data"
    }
   ],
   "source": [
    "# example = ''''''\n",
    "# nlp = spacy.load('fr_dep_news_trf', enable = ['transformer', 'ner'])\n",
    "nlp = spacy.load('./models/ck-model-best')\n",
    "doc = nlp(example)\n",
    "displacy.render(doc, style = 'ent')"
   ]
  },
  {
   "cell_type": "markdown",
   "metadata": {},
   "source": [
    "Modern French and Context Test\n",
    "\n",
    "Can an AI model trained only on medieval texts still recognize entities in modern context?"
   ]
  },
  {
   "cell_type": "code",
   "execution_count": 9,
   "metadata": {},
   "outputs": [
    {
     "data": {
      "text/html": [
       "<span class=\"tex2jax_ignore\"><div class=\"entities\" style=\"line-height: 2.5; direction: ltr\"><br>Le \n",
       "<mark class=\"entity\" style=\"background: #aa9cfc; padding: 0.45em 0.6em; margin: 0 0.25em; line-height: 1; border-radius: 0.35em;\">\n",
       "    président ukrainien Volodymyr Zelensky\n",
       "    <span style=\"font-size: 0.8em; font-weight: bold; line-height: 1; border-radius: 0.35em; vertical-align: middle; margin-left: 0.5rem\">PERSON</span>\n",
       "</mark>\n",
       " s'est dit prêt mardi à &quot;un échange&quot; de territoires avec la \n",
       "<mark class=\"entity\" style=\"background: #ddd; padding: 0.45em 0.6em; margin: 0 0.25em; line-height: 1; border-radius: 0.35em;\">\n",
       "    Russie\n",
       "    <span style=\"font-size: 0.8em; font-weight: bold; line-height: 1; border-radius: 0.35em; vertical-align: middle; margin-left: 0.5rem\">LOCATION</span>\n",
       "</mark>\n",
       ", dans le cadre d'éventuelles négociations de paix sous l'égide des \n",
       "<mark class=\"entity\" style=\"background: #ddd; padding: 0.45em 0.6em; margin: 0 0.25em; line-height: 1; border-radius: 0.35em;\">\n",
       "    Etats-Unis\n",
       "    <span style=\"font-size: 0.8em; font-weight: bold; line-height: 1; border-radius: 0.35em; vertical-align: middle; margin-left: 0.5rem\">LOCATION</span>\n",
       "</mark>\n",
       ", tout en ajoutant qu'il ne savait pas quel territoire \n",
       "<mark class=\"entity\" style=\"background: #ddd; padding: 0.45em 0.6em; margin: 0 0.25em; line-height: 1; border-radius: 0.35em;\">\n",
       "    Kiev\n",
       "    <span style=\"font-size: 0.8em; font-weight: bold; line-height: 1; border-radius: 0.35em; vertical-align: middle; margin-left: 0.5rem\">LOCATION</span>\n",
       "</mark>\n",
       " demanderait en retour.<br></div></span>"
      ],
      "text/plain": [
       "<IPython.core.display.HTML object>"
      ]
     },
     "metadata": {},
     "output_type": "display_data"
    }
   ],
   "source": [
    "example = '''\n",
    "Le président ukrainien Volodymyr Zelensky s'est dit prêt mardi à \"un échange\" de territoires avec la Russie, dans le cadre d'éventuelles négociations de paix sous l'égide des Etats-Unis, tout en ajoutant qu'il ne savait pas quel territoire Kiev demanderait en retour.\n",
    "'''\n",
    "doc = nlp(example)\n",
    "displacy.render(doc, style = 'ent')"
   ]
  },
  {
   "cell_type": "markdown",
   "metadata": {},
   "source": [
    "ChatGPT generated testing examples"
   ]
  },
  {
   "cell_type": "code",
   "execution_count": 10,
   "metadata": {},
   "outputs": [
    {
     "data": {
      "text/html": [
       "<span class=\"tex2jax_ignore\"><div class=\"entities\" style=\"line-height: 2.5; direction: ltr\"><br>\n",
       "<mark class=\"entity\" style=\"background: #aa9cfc; padding: 0.45em 0.6em; margin: 0 0.25em; line-height: 1; border-radius: 0.35em;\">\n",
       "    LOYSANE\n",
       "    <span style=\"font-size: 0.8em; font-weight: bold; line-height: 1; border-radius: 0.35em; vertical-align: middle; margin-left: 0.5rem\">PERSON</span>\n",
       "</mark>\n",
       ", amant ardent de la \n",
       "<mark class=\"entity\" style=\"background: #aa9cfc; padding: 0.45em 0.6em; margin: 0 0.25em; line-height: 1; border-radius: 0.35em;\">\n",
       "    dame Mirelle\n",
       "    <span style=\"font-size: 0.8em; font-weight: bold; line-height: 1; border-radius: 0.35em; vertical-align: middle; margin-left: 0.5rem\">PERSON</span>\n",
       "</mark>\n",
       ", fit vne déclaration en vers aux honneurs de la noble \n",
       "<mark class=\"entity\" style=\"background: #ddd; padding: 0.45em 0.6em; margin: 0 0.25em; line-height: 1; border-radius: 0.35em;\">\n",
       "    cité de Montfort\n",
       "    <span style=\"font-size: 0.8em; font-weight: bold; line-height: 1; border-radius: 0.35em; vertical-align: middle; margin-left: 0.5rem\">LOCATION</span>\n",
       "</mark>\n",
       ". Lors qu’en maints conseils de preux se trouva, \n",
       "<mark class=\"entity\" style=\"background: #aa9cfc; padding: 0.45em 0.6em; margin: 0 0.25em; line-height: 1; border-radius: 0.35em;\">\n",
       "    Jehan de Marly\n",
       "    <span style=\"font-size: 0.8em; font-weight: bold; line-height: 1; border-radius: 0.35em; vertical-align: middle; margin-left: 0.5rem\">PERSON</span>\n",
       "</mark>\n",
       ", son fidèle compagnon, jura de défendre l’amour que le destin luy avait assigné. Quant à \n",
       "<mark class=\"entity\" style=\"background: #aa9cfc; padding: 0.45em 0.6em; margin: 0 0.25em; line-height: 1; border-radius: 0.35em;\">\n",
       "    Boccace\n",
       "    <span style=\"font-size: 0.8em; font-weight: bold; line-height: 1; border-radius: 0.35em; vertical-align: middle; margin-left: 0.5rem\">PERSON</span>\n",
       "</mark>\n",
       ", célèbre conteur d’amours contrariées, fut le témoin d’vne passion si vive que ses serments furent gravés en lettres d’or dans le cœur de ceux qui oſaient croire en la fidélité.<br></div></span>"
      ],
      "text/plain": [
       "<IPython.core.display.HTML object>"
      ]
     },
     "metadata": {},
     "output_type": "display_data"
    }
   ],
   "source": [
    "example = '''\n",
    "LOYSANE, amant ardent de la dame Mirelle, fit vne déclaration en vers aux honneurs de la noble cité de Montfort. Lors qu’en maints conseils de preux se trouva, Jehan de Marly, son fidèle compagnon, jura de défendre l’amour que le destin luy avait assigné. Quant à Boccace, célèbre conteur d’amours contrariées, fut le témoin d’vne passion si vive que ses serments furent gravés en lettres d’or dans le cœur de ceux qui oſaient croire en la fidélité.\n",
    "'''\n",
    "doc = nlp(example)\n",
    "displacy.render(doc, style = 'ent')"
   ]
  },
  {
   "cell_type": "code",
   "execution_count": 5,
   "metadata": {},
   "outputs": [
    {
     "data": {
      "text/html": [
       "<span class=\"tex2jax_ignore\"><div class=\"entities\" style=\"line-height: 2.5; direction: ltr\"><br>\n",
       "<mark class=\"entity\" style=\"background: #aa9cfc; padding: 0.45em 0.6em; margin: 0 0.25em; line-height: 1; border-radius: 0.35em;\">\n",
       "    ALBERT\n",
       "    <span style=\"font-size: 0.8em; font-weight: bold; line-height: 1; border-radius: 0.35em; vertical-align: middle; margin-left: 0.5rem\">PERSON</span>\n",
       "</mark>\n",
       ", preux chevalier de la cour, enflammé par la beauté de la \n",
       "<mark class=\"entity\" style=\"background: #aa9cfc; padding: 0.45em 0.6em; margin: 0 0.25em; line-height: 1; border-radius: 0.35em;\">\n",
       "    dame Isabeau\n",
       "    <span style=\"font-size: 0.8em; font-weight: bold; line-height: 1; border-radius: 0.35em; vertical-align: middle; margin-left: 0.5rem\">PERSON</span>\n",
       "</mark>\n",
       ", résolut de regagner l’honneur qu’il crut avoir perdu aux affres du temps. En l’assemblée solennelle de \n",
       "<mark class=\"entity\" style=\"background: #ddd; padding: 0.45em 0.6em; margin: 0 0.25em; line-height: 1; border-radius: 0.35em;\">\n",
       "    Carcassonne\n",
       "    <span style=\"font-size: 0.8em; font-weight: bold; line-height: 1; border-radius: 0.35em; vertical-align: middle; margin-left: 0.5rem\">LOCATION</span>\n",
       "</mark>\n",
       ", \n",
       "<mark class=\"entity\" style=\"background: #aa9cfc; padding: 0.45em 0.6em; margin: 0 0.25em; line-height: 1; border-radius: 0.35em;\">\n",
       "    Nicolas\n",
       "    <span style=\"font-size: 0.8em; font-weight: bold; line-height: 1; border-radius: 0.35em; vertical-align: middle; margin-left: 0.5rem\">PERSON</span>\n",
       "</mark>\n",
       ", vicomte de renom, déclara par vne missive emplie de douces promesses que l’amour véritable triomphoit de toutes les adversités. Ainsi furent contées et répétées les vertus de ces amours, que nul ne pût contester.</div></span>"
      ],
      "text/plain": [
       "<IPython.core.display.HTML object>"
      ]
     },
     "metadata": {},
     "output_type": "display_data"
    }
   ],
   "source": [
    "example = '''\n",
    "ALBERT, preux chevalier de la cour, enflammé par la beauté de la dame Isabeau, résolut de regagner l’honneur qu’il crut avoir perdu aux affres du temps. En l’assemblée solennelle de Carcassonne, Nicolas, vicomte de renom, déclara par vne missive emplie de douces promesses que l’amour véritable triomphoit de toutes les adversités. Ainsi furent contées et répétées les vertus de ces amours, que nul ne pût contester.'''\n",
    "doc = nlp(example)\n",
    "displacy.render(doc, style = 'ent')"
   ]
  },
  {
   "cell_type": "code",
   "execution_count": 6,
   "metadata": {},
   "outputs": [
    {
     "data": {
      "text/html": [
       "<span class=\"tex2jax_ignore\"><div class=\"entities\" style=\"line-height: 2.5; direction: ltr\"><br>\n",
       "<mark class=\"entity\" style=\"background: #aa9cfc; padding: 0.45em 0.6em; margin: 0 0.25em; line-height: 1; border-radius: 0.35em;\">\n",
       "    Jehan de Bordeaux\n",
       "    <span style=\"font-size: 0.8em; font-weight: bold; line-height: 1; border-radius: 0.35em; vertical-align: middle; margin-left: 0.5rem\">PERSON</span>\n",
       "</mark>\n",
       ", jadis connu sous un autre nom, fut si profondément épris de la \n",
       "<mark class=\"entity\" style=\"background: #aa9cfc; padding: 0.45em 0.6em; margin: 0 0.25em; line-height: 1; border-radius: 0.35em;\">\n",
       "    dame Eléonore\n",
       "    <span style=\"font-size: 0.8em; font-weight: bold; line-height: 1; border-radius: 0.35em; vertical-align: middle; margin-left: 0.5rem\">PERSON</span>\n",
       "</mark>\n",
       " qu’il se vit contraint de quitter la \n",
       "<mark class=\"entity\" style=\"background: #ddd; padding: 0.45em 0.6em; margin: 0 0.25em; line-height: 1; border-radius: 0.35em;\">\n",
       "    cité de Lyon\n",
       "    <span style=\"font-size: 0.8em; font-weight: bold; line-height: 1; border-radius: 0.35em; vertical-align: middle; margin-left: 0.5rem\">LOCATION</span>\n",
       "</mark>\n",
       " pour chercher en des contrées plus hospitalières le repos de son cœur meurtri. Par vne lettre pleine de regrets et d’espérances, il confia ses tourments au sage \n",
       "<mark class=\"entity\" style=\"background: #aa9cfc; padding: 0.45em 0.6em; margin: 0 0.25em; line-height: 1; border-radius: 0.35em;\">\n",
       "    Boccace\n",
       "    <span style=\"font-size: 0.8em; font-weight: bold; line-height: 1; border-radius: 0.35em; vertical-align: middle; margin-left: 0.5rem\">PERSON</span>\n",
       "</mark>\n",
       ", qui, en vers mélancoliques, narra la constance d’un amour que le destin ne pouvait délier.<br></div></span>"
      ],
      "text/plain": [
       "<IPython.core.display.HTML object>"
      ]
     },
     "metadata": {},
     "output_type": "display_data"
    }
   ],
   "source": [
    "example = '''\n",
    "Jehan de Bordeaux, jadis connu sous un autre nom, fut si profondément épris de la dame Eléonore qu’il se vit contraint de quitter la cité de Lyon pour chercher en des contrées plus hospitalières le repos de son cœur meurtri. Par vne lettre pleine de regrets et d’espérances, il confia ses tourments au sage Boccace, qui, en vers mélancoliques, narra la constance d’un amour que le destin ne pouvait délier.\n",
    "'''\n",
    "doc = nlp(example)\n",
    "displacy.render(doc, style = 'ent')"
   ]
  }
 ],
 "metadata": {
  "kernelspec": {
   "display_name": "Python 3",
   "language": "python",
   "name": "python3"
  },
  "language_info": {
   "codemirror_mode": {
    "name": "ipython",
    "version": 3
   },
   "file_extension": ".py",
   "mimetype": "text/x-python",
   "name": "python",
   "nbconvert_exporter": "python",
   "pygments_lexer": "ipython3",
   "version": "3.12.3"
  }
 },
 "nbformat": 4,
 "nbformat_minor": 2
}
